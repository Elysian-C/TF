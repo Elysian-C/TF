{
 "cells": [
  {
   "cell_type": "markdown",
   "source": [
    "Función que calcula el peso entre los bordes de los nodos"
   ],
   "metadata": {
    "collapsed": false,
    "pycharm": {
     "name": "#%% md\n"
    }
   }
  },
  {
   "cell_type": "code",
   "execution_count": 1,
   "metadata": {
    "collapsed": true,
    "pycharm": {
     "name": "#%%\n"
    }
   },
   "outputs": [],
   "source": [
    "import math as m\n",
    "import numpy as np\n",
    "import pandas as pd\n",
    "import matplotlib.pyplot as plt\n",
    "def weight(long1, lat1, long2, lat2, vm, h):\n",
    "    mc = [1.0, 1.25, 1.5]\n",
    "    d_lat = lat2 - lat1\n",
    "    d_long = long2 - long1\n",
    "    a = m.sin(d_lat/2)**2 + m.cos(lat1) * m.cos(lat2) * m.sin(d_long/2)**2\n",
    "    c = 2 * m.atan(a)\n",
    "\n",
    "    d = 6378 * c * 1000\n",
    "    vm = vm / 3.6\n",
    "    t = d/vm\n",
    "\n",
    "    if (0 <= h <= 5) or (10 <= h <= 12) or (22 <= h <= 24):\n",
    "        t = t * np.random.choice(mc, 1, p=[0.70,0.20,0.10])\n",
    "    if 16 <= h <= 18:\n",
    "        t = np.random.choice(mc, 1, p=[0.10,0.70,0.20])\n",
    "    if (7 <= h <= 9) or (13 <= h <= 15) or (19 <= h <= 21):\n",
    "        t = np.random.choice(mc, 1, p=[0.10,0.20,0.70])\n",
    "\n",
    "    return round(float(t/60), 5)"
   ]
  },
  {
   "cell_type": "markdown",
   "source": [
    "Algoritmo de búsqueda de nodos Dijsktra"
   ],
   "metadata": {
    "collapsed": false,
    "pycharm": {
     "name": "#%% md\n"
    }
   }
  },
  {
   "cell_type": "code",
   "execution_count": 2,
   "outputs": [],
   "source": [
    "def dijsktra(graph, initial, end):\n",
    "    shortest_paths = {initial: (None, 0)}\n",
    "    current_node = initial\n",
    "    visited = set()\n",
    "\n",
    "    while current_node != end:\n",
    "        visited.add(current_node)\n",
    "        destinations = graph.edges[current_node]\n",
    "        weight_to_current_node = shortest_paths[current_node][1]\n",
    "\n",
    "        for next_node in destinations:\n",
    "            weight = graph.weights[(current_node, next_node)] + weight_to_current_node\n",
    "            if next_node not in shortest_paths:\n",
    "                shortest_paths[next_node] = (current_node, weight)\n",
    "            else:\n",
    "                current_shortest_weight = shortest_paths[next_node][1]\n",
    "                if current_shortest_weight > weight:\n",
    "                    shortest_paths[next_node] = (current_node, weight)\n",
    "\n",
    "        next_destinations = {node: shortest_paths[node] for node in shortest_paths if node not in visited}\n",
    "        if not next_destinations:\n",
    "            return \"Ruta imposible\"\n",
    "        current_node = min(next_destinations, key=lambda k: next_destinations[k][1])\n",
    "\n",
    "    path = []\n",
    "    while current_node is not None:\n",
    "        path.append(current_node)\n",
    "        next_node = shortest_paths[current_node][0]\n",
    "        current_node = next_node\n",
    "    path = path[::-1]\n",
    "    return path"
   ],
   "metadata": {
    "collapsed": false,
    "pycharm": {
     "name": "#%%\n"
    }
   }
  },
  {
   "cell_type": "markdown",
   "source": [
    "Creación de la clase Graph y función para crear el grafo"
   ],
   "metadata": {
    "collapsed": false,
    "pycharm": {
     "name": "#%% md\n"
    }
   }
  },
  {
   "cell_type": "code",
   "execution_count": 3,
   "outputs": [],
   "source": [
    "from collections import defaultdict\n",
    "class Graph():\n",
    "    def __init__(self):\n",
    "        self.edges = defaultdict(set)\n",
    "        self.weights = {}\n",
    "\n",
    "    def add_edge(self, s, e, w):\n",
    "        self.edges[s].add(e)\n",
    "        self.edges[e].add(s)\n",
    "        self.weights[(s, e)] = w\n",
    "        self.weights[(e, s)] = w\n",
    "\n",
    "    def add_directed_edge(self, s, e, w):\n",
    "        self.edges[s].add(e)\n",
    "        self.weights[(s, e)] = w\n",
    "\n",
    "def readFiles(file1, file2, file3, hour):\n",
    "    nodes = []\n",
    "    edges = []\n",
    "    velocities = []\n",
    "    with open(file1) as f:\n",
    "        for line in f.readlines():\n",
    "            nodes.append((float(line.split()[1]), float(line.split()[2])))\n",
    "\n",
    "    with open(file2) as f:\n",
    "        for line in f.readlines():\n",
    "            edges.append((int(line.split()[1]), int(line.split()[2])))\n",
    "\n",
    "    with open(file3) as f:\n",
    "        for line in f.readlines():\n",
    "            velocities.append(int(line))\n",
    "\n",
    "    edges = sorted(edges, key=lambda x: x[0])\n",
    "    G = Graph()\n",
    "\n",
    "    for i in range(len(edges)):\n",
    "        s = edges[i][0]\n",
    "        e = edges[i][1]\n",
    "        G.add_edge(s, e, weight(nodes[s][0], nodes[s][1], nodes[e][0], nodes[e][1], velocities[i], hour))\n",
    "    return G"
   ],
   "metadata": {
    "collapsed": false,
    "pycharm": {
     "name": "#%%\n"
    }
   }
  },
  {
   "cell_type": "markdown",
   "source": [
    "Función que encapsula todo el programa"
   ],
   "metadata": {
    "collapsed": false,
    "pycharm": {
     "name": "#%% md\n"
    }
   }
  },
  {
   "cell_type": "code",
   "execution_count": 35,
   "outputs": [],
   "source": [
    "def Visualization(path_g):\n",
    "    data = pd.read_csv(\"nodes2.txt\", sep = \" \", header = None)\n",
    "    data.columns = [\"id\", \"nor_x\", \"nor_y\"]\n",
    "    data = data.set_index(\"id\")\n",
    "    path = data.iloc[path_g]\n",
    "    plt.subplots(figsize = (3, 3))\n",
    "    plt.scatter(data[\"nor_x\"], data[\"nor_y\"], s = 1)\n",
    "    plt.plot(path[\"nor_x\"], path[\"nor_y\"], \"r-\")"
   ],
   "metadata": {
    "collapsed": false,
    "pycharm": {
     "name": "#%%\n"
    }
   }
  },
  {
   "cell_type": "code",
   "execution_count": 37,
   "outputs": [
    {
     "name": "stdout",
     "output_type": "stream",
     "text": [
      "El camino más corto del punto 0 al punto 934 a las 12:00 horas es el siguiente: [0, 2, 3, 9, 17, 24, 26947, 16836, 16830, 16803, 16797, 16784, 16783, 16788, 16790, 16792, 16794, 16795, 16804, 16808, 23672, 23662, 23657, 23655, 23651, 23644, 23645, 23648, 23658, 23660, 23663, 23666, 23668, 23676, 23720, 23722, 23724, 27717, 27701, 27689, 27687, 27686, 27653, 27645, 27692, 27693, 27714, 55175, 55169, 55168, 55167, 27700, 27699, 27698, 27716, 27720, 44729, 44728, 44727, 44726, 44725, 44724, 44723, 38817, 38799, 38795, 38792, 38789, 38767, 38761, 38752, 38739, 38742, 38733, 38721, 26653, 26650, 26638, 26626, 26615, 26605, 26601, 26598, 26596, 26610, 26603, 21213, 21198, 21187, 21166, 21174, 21185, 21163, 21156, 21142, 17818, 17810, 21118, 21120, 17813, 17804, 17797, 17782, 17777, 17769, 17757, 17748, 17740, 17759, 17749, 17741, 17765, 17754, 17745, 17738, 17722, 17717, 17713, 17710, 17707, 17704, 17702, 7149, 7143, 7123, 7116, 7077, 3114, 3108, 3135, 3170, 3160, 3141, 3113, 3103, 3093, 3086, 3105, 3099, 3089, 3097, 3107, 3117, 3131, 3165, 3184, 931, 920, 3190, 3153, 3161, 3177, 934]\n"
     ]
    },
    {
     "data": {
      "text/plain": "<Figure size 300x300 with 1 Axes>",
      "image/png": "[encoded data removed]"
     },
     "metadata": {},
     "output_type": "display_data"
    }
   ],
   "source": [
    "def App():\n",
    "    h = int(input(\"Ingrese la hora en la que se calculará la ruta para calcular el tráfico aproximado de la zona: \"))\n",
    "    s = int(input(\"Ingrese el nodo de salida: \"))\n",
    "    e = int(input(\"Ingrese el nodo de llegada: \"))\n",
    "    G = readFiles(\"nodes2.txt\", \"edges2.txt\", \"max_vel.txt\", h)\n",
    "    path = dijsktra(G, s, e)\n",
    "    print(\"El camino más corto del punto {} al punto {} a las {}:00 horas es el siguiente: {}\".format(s, e, h, path))\n",
    "    Visualization(path)\n",
    "App()"
   ],
   "metadata": {
    "collapsed": false,
    "pycharm": {
     "name": "#%%\n"
    }
   }
  },
  {
   "cell_type": "code",
   "execution_count": 32,
   "outputs": [],
   "source": [],
   "metadata": {
    "collapsed": false,
    "pycharm": {
     "name": "#%%\n"
    }
   }
  },
  {
   "cell_type": "code",
   "execution_count": null,
   "outputs": [],
   "source": [],
   "metadata": {
    "collapsed": false,
    "pycharm": {
     "name": "#%%\n"
    }
   }
  }
 ],
 "metadata": {
  "kernelspec": {
   "display_name": "Python 3",
   "language": "python",
   "name": "python3"
  },
  "language_info": {
   "codemirror_mode": {
    "name": "ipython",
    "version": 2
   },
   "file_extension": ".py",
   "mimetype": "text/x-python",
   "name": "python",
   "nbconvert_exporter": "python",
   "pygments_lexer": "ipython2",
   "version": "2.7.6"
  }
 },
 "nbformat": 4,
 "nbformat_minor": 0
}